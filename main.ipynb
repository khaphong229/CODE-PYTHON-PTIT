{
 "cells": [
  {
   "cell_type": "code",
   "execution_count": 18,
   "id": "e3217d9f-a533-40a7-8967-d804def1cfe5",
   "metadata": {},
   "outputs": [
    {
     "name": "stdin",
     "output_type": "stream",
     "text": [
      " 6\n",
      " 1 0 0 1 1 1\n"
     ]
    },
    {
     "name": "stdout",
     "output_type": "stream",
     "text": [
      "2\n"
     ]
    }
   ],
   "source": [
    "def count_different_pairs(n, arr):\n",
    "    count = 0\n",
    "    for i in range(n - 1):\n",
    "        if arr[i] != arr[i + 1]:\n",
    "            count += 1\n",
    "    return count\n",
    "\n",
    "if __name__ == \"__main__\":\n",
    "    # Nhập số phần tử của dãy\n",
    "    n = int(input())\n",
    "    \n",
    "    # Nhập dãy số A\n",
    "    a = list(map(int, input().split()))\n",
    "    \n",
    "    # Gọi hàm và in kết quả\n",
    "    result = count_different_pairs(n, a)\n",
    "    print(result)\n"
   ]
  },
  {
   "cell_type": "code",
   "execution_count": 20,
   "id": "526f1328-d1d6-43f9-a7d3-859bfc25521c",
   "metadata": {},
   "outputs": [
    {
     "name": "stdin",
     "output_type": "stream",
     "text": [
      " 6\n",
      " 1 0 0 1 1 1\n"
     ]
    },
    {
     "name": "stdout",
     "output_type": "stream",
     "text": [
      "2\n"
     ]
    }
   ],
   "source": [
    "def count_couple_dif(n,a):\n",
    "    cnt=0\n",
    "    for i in range(n-1):\n",
    "        if a[i]!=a[i+1]:\n",
    "            cnt+=1\n",
    "    return cnt\n",
    "\n",
    "n=int(input())\n",
    "a=[int(i) for i in input().split()]\n",
    "print(count_couple_dif(n,a))"
   ]
  },
  {
   "cell_type": "code",
   "execution_count": null,
   "id": "dd253448-40ca-4b8a-b0e1-d48f6d4877b6",
   "metadata": {},
   "outputs": [],
   "source": []
  }
 ],
 "metadata": {
  "kernelspec": {
   "display_name": "Python 3 (ipykernel)",
   "language": "python",
   "name": "python3"
  },
  "language_info": {
   "codemirror_mode": {
    "name": "ipython",
    "version": 3
   },
   "file_extension": ".py",
   "mimetype": "text/x-python",
   "name": "python",
   "nbconvert_exporter": "python",
   "pygments_lexer": "ipython3",
   "version": "3.11.6"
  }
 },
 "nbformat": 4,
 "nbformat_minor": 5
}
